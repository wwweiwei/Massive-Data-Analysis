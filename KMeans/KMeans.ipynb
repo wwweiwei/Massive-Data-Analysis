{
 "cells": [
  {
   "cell_type": "markdown",
   "metadata": {},
   "source": [
    "## Introduction to Massive Data Analysis \n",
    "### HW3 - K-means\n",
    "106070038 杜葳葳"
   ]
  },
  {
   "cell_type": "markdown",
   "metadata": {},
   "source": [
    "匯入 SparkConf、SparkContext、Pyspark模組<br>\n",
    "設定環境變數（解決版本問題）"
   ]
  },
  {
   "cell_type": "code",
   "execution_count": 1,
   "metadata": {},
   "outputs": [],
   "source": [
    "# import package\n",
    "from pyspark import SparkConf,SparkContext\n",
    "import pyspark\n",
    "from numpy import array\n",
    "import csv\n",
    "\n",
    "import numpy as np\n",
    "import pandas as pd\n",
    "import matplotlib.pyplot as plt\n",
    "\n",
    "# set environment variables\n",
    "import os\n",
    "os.environ[\"PYSPARK_PYTHON\"]=\"/Library/Frameworks/Python.framework/Versions/3.8/bin/python3.8\"\n",
    "os.environ['PYSPARK_DRIVER_PYTHON'] = '/Library/Frameworks/Python.framework/Versions/3.8/bin/python3.8'"
   ]
  },
  {
   "cell_type": "markdown",
   "metadata": {},
   "source": [
    "建立 SparkConf 物件<br>\n",
    "設為 local 模式、名稱設為 \"hw3\""
   ]
  },
  {
   "cell_type": "code",
   "execution_count": 2,
   "metadata": {},
   "outputs": [],
   "source": [
    "sc.stop()"
   ]
  },
  {
   "cell_type": "code",
   "execution_count": 3,
   "metadata": {},
   "outputs": [
    {
     "data": {
      "text/html": [
       "\n",
       "        <div>\n",
       "            <p><b>SparkContext</b></p>\n",
       "\n",
       "            <p><a href=\"http://sd204175.ya.ab.nthu.edu.tw:4040\">Spark UI</a></p>\n",
       "\n",
       "            <dl>\n",
       "              <dt>Version</dt>\n",
       "                <dd><code>v3.0.1</code></dd>\n",
       "              <dt>Master</dt>\n",
       "                <dd><code>local</code></dd>\n",
       "              <dt>AppName</dt>\n",
       "                <dd><code>hw3</code></dd>\n",
       "            </dl>\n",
       "        </div>\n",
       "        "
      ],
      "text/plain": [
       "<SparkContext master=local appName=hw3>"
      ]
     },
     "execution_count": 3,
     "metadata": {},
     "output_type": "execute_result"
    }
   ],
   "source": [
    "conf = SparkConf().setMaster(\"local\").setAppName(\"hw3\")\n",
    "sc = SparkContext(conf=conf)\n",
    "sc"
   ]
  },
  {
   "cell_type": "markdown",
   "metadata": {},
   "source": [
    "### 讀檔"
   ]
  },
  {
   "cell_type": "code",
   "execution_count": 4,
   "metadata": {},
   "outputs": [
    {
     "data": {
      "text/plain": [
       "[array([  0.   ,   0.64 ,   0.64 ,   0.   ,   0.32 ,   0.   ,   0.   ,\n",
       "          0.   ,   0.   ,   0.   ,   0.   ,   0.64 ,   0.   ,   0.   ,\n",
       "          0.   ,   0.32 ,   0.   ,   1.29 ,   1.93 ,   0.   ,   0.96 ,\n",
       "          0.   ,   0.   ,   0.   ,   0.   ,   0.   ,   0.   ,   0.   ,\n",
       "          0.   ,   0.   ,   0.   ,   0.   ,   0.   ,   0.   ,   0.   ,\n",
       "          0.   ,   0.   ,   0.   ,   0.   ,   0.   ,   0.   ,   0.   ,\n",
       "          0.   ,   0.   ,   0.   ,   0.   ,   0.   ,   0.   ,   0.   ,\n",
       "          0.   ,   0.   ,   0.778,   0.   ,   0.   ,   3.756,  61.   ,\n",
       "        278.   ,   1.   ])]"
      ]
     },
     "execution_count": 4,
     "metadata": {},
     "output_type": "execute_result"
    }
   ],
   "source": [
    "dataSet = sc.textFile(\"data.txt\").map(lambda line: array([float(x) for x in line.split(' ')]))\n",
    "c1 = sc.textFile(\"c1.txt\").map(lambda line: array([float(x) for x in line.split(' ')]))\n",
    "c2 = sc.textFile(\"c2.txt\").map(lambda line: array([float(x) for x in line.split(' ')]))\n",
    "dataSet.take(1)"
   ]
  },
  {
   "cell_type": "markdown",
   "metadata": {},
   "source": [
    "### 加上index\n",
    "**zipWithIndex()**<br>\n",
    "Zips this RDD with its element indices.<br>\n",
    "The ordering is first based on the partition index and then the ordering of items within each partition. So the first item in the first partition gets index 0, and the last item in the last partition receives the largest index."
   ]
  },
  {
   "cell_type": "code",
   "execution_count": 5,
   "metadata": {},
   "outputs": [
    {
     "data": {
      "text/plain": [
       "[(0,\n",
       "  array([  0.   ,   0.64 ,   0.64 ,   0.   ,   0.32 ,   0.   ,   0.   ,\n",
       "           0.   ,   0.   ,   0.   ,   0.   ,   0.64 ,   0.   ,   0.   ,\n",
       "           0.   ,   0.32 ,   0.   ,   1.29 ,   1.93 ,   0.   ,   0.96 ,\n",
       "           0.   ,   0.   ,   0.   ,   0.   ,   0.   ,   0.   ,   0.   ,\n",
       "           0.   ,   0.   ,   0.   ,   0.   ,   0.   ,   0.   ,   0.   ,\n",
       "           0.   ,   0.   ,   0.   ,   0.   ,   0.   ,   0.   ,   0.   ,\n",
       "           0.   ,   0.   ,   0.   ,   0.   ,   0.   ,   0.   ,   0.   ,\n",
       "           0.   ,   0.   ,   0.778,   0.   ,   0.   ,   3.756,  61.   ,\n",
       "         278.   ,   1.   ]))]"
      ]
     },
     "execution_count": 5,
     "metadata": {},
     "output_type": "execute_result"
    }
   ],
   "source": [
    "data_index = dataSet.zipWithIndex().map(lambda x: (x[1],x[0]))\n",
    "c1_index = c1.zipWithIndex().map(lambda x: (x[1],x[0]))\n",
    "c2_index = c2.zipWithIndex().map(lambda x: (x[1],x[0]))\n",
    "data_index.take(1)"
   ]
  },
  {
   "cell_type": "markdown",
   "metadata": {},
   "source": [
    "### cartesian 取得 pair\n",
    "**cartesian(other)**<br>\n",
    "Return the Cartesian product of this RDD and another one, that is, the RDD of all pairs of elements (a, b) where a is in self and b is in other.<br>\n",
    "abs(): 計算 Manhattan cost<br>\n",
    "平方: 計算 Euclidean cost<br>\n",
    "sum(): 加總<br>\n",
    "重新mapping"
   ]
  },
  {
   "cell_type": "code",
   "execution_count": 6,
   "metadata": {},
   "outputs": [],
   "source": [
    "## return (i, [j, Manhattan distance sum, Euclidean distance sum])\n",
    "## ex.(0, [0, 289.6426000000001, 78033.06652467705])\n",
    "def get_count(data, cluster):\n",
    "    return data.cartesian(cluster)\\\n",
    "        .map(lambda x : ((x[0][0],x[1][0]), x[0][1]-x[1][1]))\\\n",
    "        .map(lambda x : (x[0],(abs(x[1]),x[1]**2)))\\\n",
    "        .map(lambda x : (x[0],(sum(x[1][0]),sum(x[1][1]))))\\\n",
    "        .map(lambda x : (x[0][0],[x[0][1],x[1][0],x[1][1] ] ))"
   ]
  },
  {
   "cell_type": "markdown",
   "metadata": {},
   "source": [
    "### 計算各個cluster兩兩間的距離\n",
    "與 get_count() 類似<br>\n",
    "但因為是distance 所以 Euclidean 要開根號"
   ]
  },
  {
   "cell_type": "code",
   "execution_count": 7,
   "metadata": {},
   "outputs": [],
   "source": [
    "def get_distance(data, cluster):\n",
    "    return data.cartesian(cluster)\\\n",
    "        .map(lambda x : ((x[0][0],x[1][0]), x[0][1]-x[1][1]))\\\n",
    "        .map(lambda x : (x[0],(abs(x[1]),x[1]**2)))\\\n",
    "        .map(lambda x : (x[0],(sum(x[1][0]),sum(x[1][1])**0.5)))\\\n",
    "        .map(lambda x : (x[0][0],x[0][1],x[1][0],x[1][1]))"
   ]
  },
  {
   "cell_type": "markdown",
   "metadata": {},
   "source": [
    "### 尋找距離最短的cluster\n",
    "if \"<\" 就更新"
   ]
  },
  {
   "cell_type": "code",
   "execution_count": 8,
   "metadata": {},
   "outputs": [],
   "source": [
    "def manhattan_reduce(distance_sum):\n",
    "    return distance_sum.reduceByKey(lambda x,y : x if x[1]<=y[1] else y)\n",
    "def euclidean_reduce(distance_sum):\n",
    "    return distance_sum.reduceByKey(lambda x,y : x if x[2]<=y[2] else y)"
   ]
  },
  {
   "cell_type": "markdown",
   "metadata": {},
   "source": [
    "### 取得新的cluster"
   ]
  },
  {
   "cell_type": "code",
   "execution_count": 9,
   "metadata": {},
   "outputs": [],
   "source": [
    "def find_centriods(data_index, cluster_table):\n",
    "    return cluster_table.join(data_index).map(lambda x: (x[1][0], (1,x[1][1])))\\\n",
    "                  .reduceByKey(lambda x,y : (x[0]+y[0],x[1]+y[1]))\\\n",
    "                  .map(lambda x : (x[0],x[1][1]/x[1][0]))"
   ]
  },
  {
   "cell_type": "markdown",
   "metadata": {},
   "source": [
    "### 寫至csv檔"
   ]
  },
  {
   "cell_type": "code",
   "execution_count": 10,
   "metadata": {},
   "outputs": [],
   "source": [
    "def toCSVLine(data):\n",
    "    return ','.join(str(d) for d in data)"
   ]
  },
  {
   "cell_type": "markdown",
   "metadata": {},
   "source": [
    "建立一個dataframe來記錄每次iterate的cost"
   ]
  },
  {
   "cell_type": "code",
   "execution_count": 11,
   "metadata": {},
   "outputs": [],
   "source": [
    "import pandas as pd\n",
    "series1 = [0,1,2,3,4,5,6,7,8,9,10,11,12,13,14,15,16,17,18,19]\n",
    "series = ['i','man','euc']\n",
    "ans = pd.DataFrame(index=series,columns=series1)\n",
    "ans2 = pd.DataFrame(index=series,columns=series1)\n",
    "ans3 = pd.DataFrame(index=series,columns=series1)\n",
    "ans4 = pd.DataFrame(index=series,columns=series1)"
   ]
  },
  {
   "cell_type": "markdown",
   "metadata": {},
   "source": [
    "### (a) Initialization strategies with Euclidean distance\n",
    "#### C1\n",
    "重覆20次迴圈<br><br>\n",
    "計算所有點對於所有cluster的距離<br>\n",
    "使用data的index做reduceByKey，取得所有cluster中距離最小的距離<br>\n",
    "分別用sum得到兩種距離，並加到list中<br>\n",
    "建立cluster_table來區辨每個點是屬於哪個cluster<br>\n",
    "重新map然後reduce取得新的cluster"
   ]
  },
  {
   "cell_type": "code",
   "execution_count": 12,
   "metadata": {},
   "outputs": [
    {
     "name": "stdout",
     "output_type": "stream",
     "text": [
      "Iteration 0: 623660345.306423\n",
      "Iteration 1: 509862908.297546\n",
      "Iteration 2: 485480681.872008\n",
      "Iteration 3: 463997011.685014\n",
      "Iteration 4: 460969266.572996\n",
      "Iteration 5: 460537847.982768\n",
      "Iteration 6: 460313099.653545\n",
      "Iteration 7: 460003523.889407\n",
      "Iteration 8: 459570539.317735\n",
      "Iteration 9: 459021103.342291\n",
      "Iteration 10: 458490656.191981\n",
      "Iteration 11: 457944232.587974\n",
      "Iteration 12: 457558005.198677\n",
      "Iteration 13: 457290136.352302\n",
      "Iteration 14: 457050555.059562\n",
      "Iteration 15: 456892235.615355\n",
      "Iteration 16: 456703630.737034\n",
      "Iteration 17: 456404203.018975\n",
      "Iteration 18: 456177800.541993\n",
      "Iteration 19: 455986871.027346\n"
     ]
    }
   ],
   "source": [
    "cluster = c1_index\n",
    "cluster.persist()\n",
    "c1_man_list = []\n",
    "c1_euc_list = []\n",
    "\n",
    "for i in range(20):\n",
    "    \n",
    "    distance_sum = get_count(data_index,cluster)\n",
    "\n",
    "    manhattan_cost = manhattan_reduce(distance_sum).map(lambda x : x[1][1]).sum()\n",
    "    euclidean = euclidean_reduce(distance_sum)\n",
    "    euclidean_cost = euclidean.map(lambda x : x[1][2]).sum()\n",
    "    \n",
    "    c1_man_list.append(manhattan_cost)\n",
    "    c1_euc_list.append(euclidean_cost)\n",
    "\n",
    "    ans.iloc[0,i] = i\n",
    "    ans.iloc[1,i] = round(manhattan_cost,3)\n",
    "    ans.iloc[2,i] = round(euclidean_cost,3)\n",
    "    \n",
    "    print(\"Iteration %d: %f\" % (i,euclidean_cost))\n",
    "    \n",
    "    ## update centriod\n",
    "    cluster_table = euclidean.map(lambda x : (x[0],x[1][0]))\n",
    "    cluster = find_centriods(data_index, cluster_table)\n",
    "    \n",
    "    ## output the distance between different centroids by Manhattan and Euclidean\n",
    "    sheet = get_distance(cluster, cluster)\n",
    "\n",
    "    ## when iterate 20 times, print the distance between cluster\n",
    "    if i==19:\n",
    "        lines = sheet.map(toCSVLine)\n",
    "        lines.repartition(1).saveAsTextFile('output_euc_c1_19.csv')\n",
    "    \n",
    "    cluster.persist()\n",
    "    \n",
    "ans.to_csv('sheet_1.csv', index=False, header=False )"
   ]
  },
  {
   "cell_type": "markdown",
   "metadata": {},
   "source": [
    "#### C2"
   ]
  },
  {
   "cell_type": "code",
   "execution_count": 13,
   "metadata": {},
   "outputs": [
    {
     "name": "stdout",
     "output_type": "stream",
     "text": [
      "Iteration 0:  438747790.027918\n",
      "Iteration 1:  249803933.626003\n",
      "Iteration 2:  194494814.406312\n",
      "Iteration 3:  169804841.451543\n",
      "Iteration 4:  156295748.806276\n",
      "Iteration 5:  149094208.108966\n",
      "Iteration 6:  142508531.619615\n",
      "Iteration 7:  132303869.406530\n",
      "Iteration 8:  117170969.837191\n",
      "Iteration 9:  108547377.178570\n",
      "Iteration 10:  102237203.317996\n",
      "Iteration 11:  98278015.749757\n",
      "Iteration 12:  95630226.121774\n",
      "Iteration 13:  93793314.051193\n",
      "Iteration 14:  92377131.968211\n",
      "Iteration 15:  91541606.254239\n",
      "Iteration 16:  91045573.830425\n",
      "Iteration 17:  90752240.101408\n",
      "Iteration 18:  90470170.181227\n",
      "Iteration 19:  90216416.175631\n"
     ]
    }
   ],
   "source": [
    "cluster = c2_index\n",
    "cluster.persist()\n",
    "c2_man_list = []\n",
    "c2_euc_list = []\n",
    "for i in range(20):\n",
    "    \n",
    "    distance_sum = get_count(data_index,cluster)\n",
    "\n",
    "    manhattan_cost = manhattan_reduce(distance_sum).map(lambda x : x[1][1]).sum()\n",
    "    euclidean = euclidean_reduce(distance_sum)\n",
    "    euclidean_cost = euclidean.map(lambda x : x[1][2]).sum()\n",
    "    \n",
    "    c2_man_list.append(manhattan_cost)\n",
    "    c2_euc_list.append(euclidean_cost)\n",
    "\n",
    "    ans2.iloc[0,i] = i\n",
    "    ans2.iloc[1,i] = round(manhattan_cost,3)\n",
    "    ans2.iloc[2,i] = round(euclidean_cost,3)\n",
    "    \n",
    "    print(\"Iteration %d:  %f\" % (i,euclidean_cost))\n",
    "    \n",
    "    ## update centriod\n",
    "    cluster_table = euclidean.map(lambda x : (x[0],x[1][0]))\n",
    "    cluster = find_centriods(data_index, cluster_table)\n",
    "    \n",
    "    ## output the distance between different centroids by Manhattan and Euclidean\n",
    "    sheet = get_distance(cluster, cluster)\n",
    "    \n",
    "    if i==19:\n",
    "        lines = sheet.map(toCSVLine)\n",
    "        lines.repartition(1).saveAsTextFile('output_euc_c2_19.csv')\n",
    "    \n",
    "    cluster.persist()\n",
    "    \n",
    "ans2.to_csv('sheet_2.csv', index=False, header=False )"
   ]
  },
  {
   "cell_type": "code",
   "execution_count": 14,
   "metadata": {},
   "outputs": [
    {
     "data": {
      "image/png": "[encoded data removed]",
      "text/plain": [
       "<Figure size 432x288 with 1 Axes>"
      ]
     },
     "metadata": {
      "needs_background": "light"
     },
     "output_type": "display_data"
    }
   ],
   "source": [
    "plt.plot(c1_euc_list, label=\"c1\")\n",
    "plt.plot(c2_euc_list, label = \"c2\")\n",
    "plt.legend(loc='upper right')\n",
    "plt.title(\"(a) Euclidean\")\n",
    "plt.show()"
   ]
  },
  {
   "cell_type": "markdown",
   "metadata": {},
   "source": [
    "### (b) Initialization strategies with Manhattan distance\n",
    "#### C1\n",
    "與(a)大致相同<br>\n",
    "僅差在update時用Manhattan"
   ]
  },
  {
   "cell_type": "code",
   "execution_count": 15,
   "metadata": {},
   "outputs": [
    {
     "name": "stdout",
     "output_type": "stream",
     "text": [
      "Iteration 0: 550117.142000\n",
      "Iteration 1: 464869.275879\n",
      "Iteration 2: 470897.382277\n",
      "Iteration 3: 483914.409173\n",
      "Iteration 4: 489216.071003\n",
      "Iteration 5: 487629.668550\n",
      "Iteration 6: 483711.923214\n",
      "Iteration 7: 475330.773493\n",
      "Iteration 8: 474871.238846\n",
      "Iteration 9: 457232.920115\n",
      "Iteration 10: 447494.386197\n",
      "Iteration 11: 450915.012577\n",
      "Iteration 12: 451250.367073\n",
      "Iteration 13: 451974.595540\n",
      "Iteration 14: 451570.364070\n",
      "Iteration 15: 452739.011366\n",
      "Iteration 16: 453082.730287\n",
      "Iteration 17: 450583.670860\n",
      "Iteration 18: 450368.749317\n",
      "Iteration 19: 449011.363726\n"
     ]
    }
   ],
   "source": [
    "cluster = c1_index\n",
    "cluster.persist()\n",
    "c1_man_list = []\n",
    "c1_euc_list = []\n",
    "for i in range(20):\n",
    "    \n",
    "    distance_sum = get_count(data_index,cluster)\n",
    "\n",
    "    manhattan = manhattan_reduce(distance_sum)\n",
    "    manhattan_cost = manhattan.map(lambda x : x[1][1]).sum()\n",
    "    euclidean_cost = euclidean_reduce(distance_sum).map(lambda x : x[1][2]).sum()\n",
    "    \n",
    "    c1_man_list.append(manhattan_cost)\n",
    "    c1_euc_list.append(euclidean_cost)\n",
    "\n",
    "    ans3.iloc[0,i] = i\n",
    "    ans3.iloc[1,i] = round(manhattan_cost,3)\n",
    "    ans3.iloc[2,i] = round(euclidean_cost,3)\n",
    "    \n",
    "    print(\"Iteration %d: %f\" % (i,manhattan_cost))\n",
    "    \n",
    "    ## update centriod\n",
    "    cluster_table = manhattan.map(lambda x : (x[0],x[1][0]))\n",
    "    cluster = find_centriods(data_index, cluster_table)\n",
    "    \n",
    "    ## output the distance between different centroids by Manhattan and Euclidean\n",
    "    sheet = get_distance(cluster, cluster)\n",
    "    \n",
    "    if i==19:\n",
    "        lines = sheet.map(toCSVLine)\n",
    "        lines.repartition(1).saveAsTextFile('output_man_c1_19.csv')\n",
    "    \n",
    "    cluster.persist()\n",
    "    \n",
    "ans3.to_csv('sheet_3.csv', index=False, header=False )"
   ]
  },
  {
   "cell_type": "markdown",
   "metadata": {},
   "source": [
    "#### Initial points: C2"
   ]
  },
  {
   "cell_type": "code",
   "execution_count": 16,
   "metadata": {},
   "outputs": [
    {
     "name": "stdout",
     "output_type": "stream",
     "text": [
      "Iteration 0: 1433739.310000\n",
      "Iteration 1: 1084488.776965\n",
      "Iteration 2: 973431.714662\n",
      "Iteration 3: 895934.592563\n",
      "Iteration 4: 865128.335294\n",
      "Iteration 5: 845846.647031\n",
      "Iteration 6: 827219.582756\n",
      "Iteration 7: 803590.345601\n",
      "Iteration 8: 756039.517276\n",
      "Iteration 9: 717332.902543\n",
      "Iteration 10: 694587.925253\n",
      "Iteration 11: 684444.501997\n",
      "Iteration 12: 674574.747548\n",
      "Iteration 13: 667409.469916\n",
      "Iteration 14: 663556.627822\n",
      "Iteration 15: 660162.777229\n",
      "Iteration 16: 656041.322295\n",
      "Iteration 17: 653036.754073\n",
      "Iteration 18: 651112.426252\n",
      "Iteration 19: 649689.013184\n"
     ]
    }
   ],
   "source": [
    "cluster = c2_index\n",
    "cluster.persist()\n",
    "c2_man_list = []\n",
    "c2_euc_list = []\n",
    "for i in range(20):\n",
    "    \n",
    "    distance_sum = get_count(data_index,cluster)\n",
    "\n",
    "    manhattan = manhattan_reduce(distance_sum)\n",
    "    manhattan_cost = manhattan.map(lambda x : x[1][1]).sum()\n",
    "    euclidean_cost = euclidean_reduce(distance_sum).map(lambda x : x[1][2]).sum()\n",
    "    \n",
    "    c2_man_list.append(manhattan_cost)\n",
    "    c2_euc_list.append(euclidean_cost)\n",
    "\n",
    "    ans4.iloc[0,i] = i\n",
    "    ans4.iloc[1,i] = round(manhattan_cost,3)\n",
    "    ans4.iloc[2,i] = round(euclidean_cost,3)\n",
    "    print(\"Iteration %d: %f\" % (i,manhattan_cost))\n",
    "    \n",
    "    ## update centriod\n",
    "    cluster_table = manhattan.map(lambda x : (x[0],x[1][0]))\n",
    "    cluster = find_centriods(data_index, cluster_table)\n",
    "    \n",
    "    ## output the distance between different centroids by Manhattan and Euclidean\n",
    "    sheet = get_distance(cluster, cluster)\n",
    "    \n",
    "    if i==19:\n",
    "        lines = sheet.map(toCSVLine)\n",
    "        lines.repartition(1).saveAsTextFile('output_man_c2_19.csv')\n",
    "    \n",
    "    cluster.persist()\n",
    "    \n",
    "ans4.to_csv('sheet_4.csv', index=False, header=False )"
   ]
  },
  {
   "cell_type": "code",
   "execution_count": 17,
   "metadata": {},
   "outputs": [
    {
     "data": {
      "image/png": "[encoded data removed]",
      "text/plain": [
       "<Figure size 432x288 with 1 Axes>"
      ]
     },
     "metadata": {
      "needs_background": "light"
     },
     "output_type": "display_data"
    }
   ],
   "source": [
    "plt.plot(c1_man_list, label = \"c1\")\n",
    "plt.plot(c2_man_list, label = \"c2\")\n",
    "plt.legend(loc='upper right')\n",
    "plt.title(\"(b) Manhattan\")\n",
    "plt.show()"
   ]
  },
  {
   "cell_type": "markdown",
   "metadata": {},
   "source": [
    "### 將資料整理後輸出成表格"
   ]
  },
  {
   "cell_type": "code",
   "execution_count": null,
   "metadata": {},
   "outputs": [],
   "source": [
    "import pandas as pd\n",
    "data_1 = pd.read_csv('output_man_c2_19.csv')\n",
    "\n",
    "series = [1,2,3,4,5,6,7,8,9,10]\n",
    "ans = pd.DataFrame(index=series,columns=series)"
   ]
  },
  {
   "cell_type": "code",
   "execution_count": null,
   "metadata": {},
   "outputs": [],
   "source": [
    "for i in range(10):\n",
    "    for j in range(10):\n",
    "        if i<j:\n",
    "            buf = data_1.loc[data_1['0'] == i]\n",
    "            buf_2 = buf.loc[buf['0.1'] == j]\n",
    "            ## x1 = buf_2.iloc[0,2]\n",
    "            x1 = buf_2.iloc[0,3]\n",
    "            print(buf_2.iloc[0,3])\n",
    "            ans.iloc[i,j] = round(x1,3)"
   ]
  },
  {
   "cell_type": "code",
   "execution_count": null,
   "metadata": {},
   "outputs": [],
   "source": [
    "print(ans)\n",
    "ans.to_csv('ans_1.csv', index=True, header=True )"
   ]
  },
  {
   "cell_type": "markdown",
   "metadata": {},
   "source": [
    "圖表與說明寫在PDF檔的report中"
   ]
  }
 ],
 "metadata": {
  "kernelspec": {
   "display_name": "Python 3",
   "language": "python",
   "name": "python3"
  },
  "language_info": {
   "codemirror_mode": {
    "name": "ipython",
    "version": 3
   },
   "file_extension": ".py",
   "mimetype": "text/x-python",
   "name": "python",
   "nbconvert_exporter": "python",
   "pygments_lexer": "ipython3",
   "version": "3.8.5"
  }
 },
 "nbformat": 4,
 "nbformat_minor": 4
}
